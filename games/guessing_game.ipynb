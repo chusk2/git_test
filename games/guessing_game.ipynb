{
 "cells": [
  {
   "cell_type": "markdown",
   "id": "0fc3ea38-0666-42e0-b871-d7a5c2953a1f",
   "metadata": {},
   "source": [
    "## Guessing Game\n",
    "by Daniel Ramírez"
   ]
  },
  {
   "cell_type": "markdown",
   "id": "e228d6f9-f03c-46af-9ddf-9eeea6b5ce4b",
   "metadata": {
    "id": "tMZr1Pd-4VDu"
   },
   "source": [
    "## 9. Bonus: ¡Hagamos un juego!\n",
    "\n",
    "Vamos a programar un juego llamado \"¡Adivina el número!\""
   ]
  },
  {
   "cell_type": "code",
   "execution_count": null,
   "id": "faddbef4-c3cc-442b-b029-1a071bea94e6",
   "metadata": {
    "id": "2QBFFLPO4FO1",
    "scrolled": true
   },
   "outputs": [],
   "source": [
    "import random"
   ]
  },
  {
   "cell_type": "code",
   "execution_count": 70,
   "id": "ab37587c-3b3f-41d7-9013-0ac4835bc5f0",
   "metadata": {
    "id": "2QBFFLPO4FO1",
    "scrolled": true
   },
   "outputs": [],
   "source": [
    "def guessing_game():\n",
    "    '''\n",
    "    This is a simple guessing game. I think of a number between 1 and 10. You have up to\n",
    "    5 attempts to guess it. I will provide hints if you fail and tell you if you need to go\n",
    "    higher or lower in your guessings. Good luck!'''\n",
    "\n",
    "    # define a function to check your guess against my number\n",
    "    def check_number(my_number, attempts):\n",
    "\n",
    "        # you guessed my number\n",
    "        if my_number == number_to_guess:\n",
    "            return 'guessed'\n",
    "\n",
    "        # number out of range\n",
    "        elif my_number not in range(1,11):\n",
    "            print('I told you the number to guess lays between 1 and 10. You have missed an attempt.\\n')\n",
    "\n",
    "        # try something higher\n",
    "        elif my_number < number_to_guess:\n",
    "            if attempts != 4:\n",
    "                print(f'You said: {my_number}. Nice try. Next time, think about a higher number!\\n')\n",
    "        \n",
    "        # try something lower\n",
    "        else:\n",
    "            if attempts != 4:\n",
    "                print(f'You said: {my_number}. Nice try, but for your next try, think about a lower number!\\n')\n",
    "            \n",
    "    # Let think of a number\n",
    "    number_to_guess = random.randint(1, 10)\n",
    "\n",
    "    # introduction\n",
    "    print(\"I have thought of an integer number between 1 and 10. I dare you to guess it.\")\n",
    "    print('You have a maximum of 5 tries. Try to guess it before you run out of guessings!')\n",
    "    print('You can desist and admit your defeat by entering \"q\" or \"quit\". Good luck!\\n\\n')\n",
    "    \n",
    "    # declare some variables   \n",
    "    terminations = ['st', 'nd', 'rd', 'th', 'th']\n",
    "    guessed = False\n",
    "    quitted = False\n",
    "    attempts = 0\n",
    "\n",
    "    # let's play\n",
    "    for i in range(5):\n",
    "        my_number = input(f\"{i+1}{terminations[i]} attempt. What's your guess: \")\n",
    "        \n",
    "        try:\n",
    "            # try integer conversion\n",
    "            my_number = int( float(my_number) )\n",
    "\n",
    "            # Lucky you!\n",
    "            if check_number(my_number, attempts) == 'guessed':\n",
    "                guessed = True\n",
    "                attempts += 1\n",
    "                break\n",
    "\n",
    "            # not guessed, add 1 attempt\n",
    "            else:\n",
    "                attempts += 1\n",
    "\n",
    "        # catch the exception\n",
    "        except ValueError:\n",
    "            if my_number == '':\n",
    "                print('Please, enter some value, an empty answer is not valid!\\n')\n",
    "                \n",
    "                # do not count this attempt\n",
    "                # attempts += 1\n",
    "            \n",
    "            elif my_number in ['q', 'quit']:\n",
    "                quitted = True\n",
    "                break\n",
    "            else:\n",
    "                print(\"I'm asking for a number, not a text!\")\n",
    "                if attempts != 4:\n",
    "                    print(\" Try again, but you've missed this attempt.\\n\")\n",
    "        \n",
    "        # unknown exception ocurred\n",
    "        except Exception as e:\n",
    "            print(f'An exception ocurred: {e}')\n",
    "            break\n",
    "            \n",
    "    # possible outcomes\n",
    "    \n",
    "    # not guessed after 5 attempts\n",
    "    if not guessed or quitted:\n",
    "        \n",
    "        # quitted the game\n",
    "        if quitted:\n",
    "            print(f'\\nSo you quit. Ok. You consumed ' \\\n",
    "                f'{f\"{attempts} attempts\" if attempts > 1 else \"1 attempt\"}. ' \\\n",
    "                'Better luck next time!')\n",
    "        \n",
    "        # failed to guess\n",
    "        else:\n",
    "            print(f\"\\n\\nOhhh, I'm so sorry you failed! You only had 5 attempts but did not manage to guess it. The actual number was {number_to_guess}.\")\n",
    "\n",
    "    # guessed the number, won the game\n",
    "    else:\n",
    "        print(f'\\n\\nCongratulations! You guessed my number in the {attempts}{terminations[attempts-1]} attempt! The number was {number_to_guess}.')"
   ]
  },
  {
   "cell_type": "code",
   "execution_count": null,
   "id": "1c6ae3bf-5b59-453e-bba9-1a7993b32ef1",
   "metadata": {
    "scrolled": true
   },
   "outputs": [],
   "source": [
    "guessing_game()"
   ]
  }
 ],
 "metadata": {
  "kernelspec": {
   "display_name": "Python 3 (ipykernel)",
   "language": "python",
   "name": "python3"
  },
  "language_info": {
   "codemirror_mode": {
    "name": "ipython",
    "version": 3
   },
   "file_extension": ".py",
   "mimetype": "text/x-python",
   "name": "python",
   "nbconvert_exporter": "python",
   "pygments_lexer": "ipython3",
   "version": "3.12.4"
  }
 },
 "nbformat": 4,
 "nbformat_minor": 5
}
