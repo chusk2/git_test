{
  "cells": [
    {
      "cell_type": "markdown",
      "id": "4db75aaa-6d33-4020-9064-8aad249a1a24",
      "metadata": {
        "id": "4db75aaa-6d33-4020-9064-8aad249a1a24"
      },
      "source": [
        "# Paper 📄, Rock 🪨 and Scissors ✂️ Game"
      ]
    },
    {
      "cell_type": "code",
      "execution_count": 1,
      "id": "3c916a70-cdc1-4bbb-b58c-b2705ef33b0a",
      "metadata": {
        "id": "3c916a70-cdc1-4bbb-b58c-b2705ef33b0a"
      },
      "outputs": [],
      "source": [
        "import random"
      ]
    },
    {
      "cell_type": "code",
      "execution_count": 2,
      "id": "e96c7246-697a-45b1-872f-84c71d523a89",
      "metadata": {
        "id": "e96c7246-697a-45b1-872f-84c71d523a89"
      },
      "outputs": [],
      "source": [
        "def choose():\n",
        "    '''Checks that the human chooses\n",
        "    an appropiate option between paper, rock and scissors.'''\n",
        "\n",
        "    # initialize vars\n",
        "    your_choice = ''\n",
        "    choices = ['paper', 'rock' ,'scissors']\n",
        "\n",
        "    while your_choice not in choices:\n",
        "        your_choice = input('Paper, rock or scissors? ')\n",
        "        try:\n",
        "            your_choice = your_choice.lower()\n",
        "        except ValueError:\n",
        "            pass\n",
        "\n",
        "        if your_choice not in choices:\n",
        "            print('That\\'s not a valid option! Try again!\\n')\n",
        "    return your_choice"
      ]
    },
    {
      "cell_type": "code",
      "execution_count": 3,
      "id": "a103c113-7405-4ef4-8b55-452405da509d",
      "metadata": {
        "id": "a103c113-7405-4ef4-8b55-452405da509d"
      },
      "outputs": [],
      "source": [
        "def check_winner(human, pc):\n",
        "    # check who wins\n",
        "\n",
        "    if human != pc:\n",
        "        # human wins cases:\n",
        "        human_wins_cases = [\n",
        "            human == 'paper' and pc == 'rock',\n",
        "            human == 'rock' and pc == 'scissors',\n",
        "            human == 'scissors' and pc == 'paper'\n",
        "        ]\n",
        "\n",
        "        # human wins if any of the above conditions is met\n",
        "        if any(human_wins_cases):\n",
        "            return 'human'\n",
        "        # otherwise, pc wins\n",
        "        else:\n",
        "            return 'pc'\n",
        "\n",
        "    # there's a tie because both of them chose the same option\n",
        "    else:\n",
        "        return 'tie'"
      ]
    },
    {
      "cell_type": "code",
      "execution_count": 6,
      "id": "a2cc2e3d-0497-4775-895c-70e8ab069b27",
      "metadata": {
        "id": "a2cc2e3d-0497-4775-895c-70e8ab069b27"
      },
      "outputs": [],
      "source": [
        "def paper_rock_scissors():\n",
        "    print('Welcome to the game. These are the rules:')\n",
        "    print('''You have three possible choices: paper, rock or scissors.\n",
        "Choose one and I will make my own choice.\n",
        "To know who wins, we will follow the following rules:\n",
        "\n",
        "    1. paper wins to stone\n",
        "    2. rock wins to scissors\n",
        "    3. scissors wins to paper\n",
        "\n",
        "We will repeat the drawing process three times. The winner will be the\n",
        "best of three attempts. Good luck!\\n\\n''')\n",
        "    games = 1\n",
        "    pc_wins = 0\n",
        "    human_wins = 0\n",
        "    ties = 0\n",
        "    # dictionary with option and unicode icon\n",
        "    choices = {'paper': '\\U0001F4C4',\n",
        "               'rock' : '\\U0001FAA8',\n",
        "               'scissors' : '\\u2702' }\n",
        "\n",
        "    # 3 games\n",
        "    while games <= 3:\n",
        "        print('\\n')\n",
        "        human = choose()\n",
        "        pc = random.choice( list( choices.keys() ) )\n",
        "        print('\\n')\n",
        "\n",
        "        # check who wins\n",
        "        result = check_winner(human, pc)\n",
        "\n",
        "        # increase scores\n",
        "        if result == 'pc':\n",
        "            print(f'I won! I chose {pc} {choices[pc]} and you chose {human} {choices[human]}. One point for me.')\n",
        "            pc_wins +=1\n",
        "        elif result == 'human':\n",
        "            print(f'You won! You chose {human} {choices[human]} and I chose {pc} {choices[pc]}. One point for you.')\n",
        "            human_wins += 1\n",
        "        else:\n",
        "            print('It was a tie! Let\\'s try again!')\n",
        "            ties += 1\n",
        "\n",
        "        # increase games counter\n",
        "        games += 1\n",
        "\n",
        "    # let's compare the scores:\n",
        "\n",
        "    # three ties in a row, no one wins\n",
        "    if ties == 3:\n",
        "        print('\\n\\nIt seems as if we read each other\\'s mind and we tied all the games. Next time, I\\'ll try to beat you!\\n\\n')\n",
        "\n",
        "    # no ties, check who won\n",
        "    elif ties == 0 :\n",
        "            if human_wins > pc_wins:\n",
        "                print(f'\\n\\nCongratulations. You won with {human_wins} games out of 3. GG!\\n\\n')\n",
        "            else:\n",
        "                print(f'\\n\\nI\\'m afraid you lost. I won {pc_wins} games out of 3. Better luck next time!\\n\\n')\n",
        "\n",
        "    # there were ties (1 or 2)\n",
        "    else:\n",
        "        # select the proper text for the conclusions\n",
        "        grammar = [ f'was {ties} tie', f'were {ties} ties' ]\n",
        "        ties_string = f'There {grammar[ties -1]}'\n",
        "\n",
        "        # 1 tie\n",
        "        if ties == 1:\n",
        "            if human_wins > pc_wins:\n",
        "                print(f'\\n\\nCongratulations! There {ties_string} and you won 2 games. Good game!')\n",
        "            elif human_wins < pc_wins:\n",
        "                print(f'\\n\\nI\\'m afraid you lost. There {ties_string} and I won 2 games. Better luck next time!')\n",
        "            # 1 tie and both won 1 game\n",
        "            else:\n",
        "                print(f'\\n\\nGood game! There {ties_string} and both of us won a game. There are no winners this time.')\n",
        "        # 2 ties\n",
        "        else:\n",
        "            if human_wins > pc_wins:\n",
        "                print(f'\\n\\nCongratulations! There {ties_string} and you won the match point. Good game!')\n",
        "            else:\n",
        "                print(f'\\n\\nI\\'m afraid you lost. There {ties_string} and I won the match point. Better luck next time!')\n",
        ""
      ]
    },
    {
      "cell_type": "code",
      "execution_count": 7,
      "id": "d92aae6b-aa7c-4588-a684-cd97a95d8ffb",
      "metadata": {
        "scrolled": true,
        "colab": {
          "base_uri": "https://localhost:8080/"
        },
        "id": "d92aae6b-aa7c-4588-a684-cd97a95d8ffb",
        "outputId": "fef985f9-8d36-4799-9ad2-036f7228592e"
      },
      "outputs": [
        {
          "output_type": "stream",
          "name": "stdout",
          "text": [
            "Welcome to the game. These are the rules:\n",
            "You have three possible choices: paper, rock or scissors.\n",
            "Choose one and I will make my own choice.\n",
            "To know who wins, we will follow the following rules: \n",
            "        \n",
            "    1. paper wins to stone\n",
            "    2. rock wins to scissors\n",
            "    3. scissors wins to paper\n",
            "    \n",
            "We will repeat the drawing process three times. The winner will be the \n",
            "best of three attempts. Good luck!\n",
            "\n",
            "\n",
            "\n",
            "\n",
            "Paper, rock or scissors? paper\n",
            "\n",
            "\n",
            "You won! You chose paper 📄 and I chose rock 🪨. One point for you.\n",
            "\n",
            "\n",
            "Paper, rock or scissors? rock\n",
            "\n",
            "\n",
            "You won! You chose rock 🪨 and I chose scissors ✂. One point for you.\n",
            "\n",
            "\n",
            "Paper, rock or scissors? rock\n",
            "\n",
            "\n",
            "I won! I chose paper 📄 and you chose rock 🪨. One point for me.\n",
            "\n",
            "\n",
            "Congratulations. You won with 2 games out of 3. GG!\n",
            "\n",
            "\n"
          ]
        }
      ],
      "source": [
        "paper_rock_scissors()"
      ]
    }
  ],
  "metadata": {
    "kernelspec": {
      "display_name": "Python 3 (ipykernel)",
      "language": "python",
      "name": "python3"
    },
    "language_info": {
      "codemirror_mode": {
        "name": "ipython",
        "version": 3
      },
      "file_extension": ".py",
      "mimetype": "text/x-python",
      "name": "python",
      "nbconvert_exporter": "python",
      "pygments_lexer": "ipython3",
      "version": "3.12.0"
    },
    "colab": {
      "provenance": []
    }
  },
  "nbformat": 4,
  "nbformat_minor": 5
}